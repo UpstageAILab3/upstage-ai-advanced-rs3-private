{
 "cells": [
  {
   "cell_type": "markdown",
   "metadata": {},
   "source": [
    "### xgb와 als 병합\n",
    "\n",
    "- xgbranker_recommendations.csv는 파일이 80메가 정도라서 올리지 않겠습니다.\n",
    "- user_id 와 item_id_list로 구성되어 있습니다.\n",
    "- user_id 하나당 추천된 item_id가 list형태로 들어가 있습니다.\n",
    "- 그래서 xgbranker_recommendations.csv의 행의 갯수는 전체 데이터의 user_id의 갯수(638257)와 같습니다."
   ]
  },
  {
   "cell_type": "code",
   "execution_count": 7,
   "metadata": {},
   "outputs": [],
   "source": [
    "import pandas as pd\n",
    "# xgb 데이터프레임의 예시\n",
    "xgb = pd.DataFrame({\n",
    "    'user_id': [1, 2],\n",
    "    'item_id_list': [[101, 102], [201, 202, 203, 204]]\n",
    "})"
   ]
  },
  {
   "cell_type": "code",
   "execution_count": 8,
   "metadata": {},
   "outputs": [
    {
     "data": {
      "text/html": [
       "<div>\n",
       "<style scoped>\n",
       "    .dataframe tbody tr th:only-of-type {\n",
       "        vertical-align: middle;\n",
       "    }\n",
       "\n",
       "    .dataframe tbody tr th {\n",
       "        vertical-align: top;\n",
       "    }\n",
       "\n",
       "    .dataframe thead th {\n",
       "        text-align: right;\n",
       "    }\n",
       "</style>\n",
       "<table border=\"1\" class=\"dataframe\">\n",
       "  <thead>\n",
       "    <tr style=\"text-align: right;\">\n",
       "      <th></th>\n",
       "      <th>user_id</th>\n",
       "      <th>item_id_list</th>\n",
       "    </tr>\n",
       "  </thead>\n",
       "  <tbody>\n",
       "    <tr>\n",
       "      <th>0</th>\n",
       "      <td>1</td>\n",
       "      <td>[101, 102]</td>\n",
       "    </tr>\n",
       "    <tr>\n",
       "      <th>1</th>\n",
       "      <td>2</td>\n",
       "      <td>[201, 202, 203, 204]</td>\n",
       "    </tr>\n",
       "  </tbody>\n",
       "</table>\n",
       "</div>"
      ],
      "text/plain": [
       "   user_id          item_id_list\n",
       "0        1            [101, 102]\n",
       "1        2  [201, 202, 203, 204]"
      ]
     },
     "execution_count": 8,
     "metadata": {},
     "output_type": "execute_result"
    }
   ],
   "source": [
    "xgb"
   ]
  },
  {
   "cell_type": "code",
   "execution_count": 5,
   "metadata": {},
   "outputs": [
    {
     "name": "stderr",
     "output_type": "stream",
     "text": [
      "future: 100%|██████████| 638257/638257 [01:22<00:00, 7761.71it/s] \n",
      "Processing user_id: 100%|██████████| 638257/638257 [02:06<00:00, 5062.47it/s]\n"
     ]
    },
    {
     "name": "stdout",
     "output_type": "stream",
     "text": [
      "                                      user_id  \\\n",
      "0        0000162d-72b9-4b0f-8895-7b52b6661c82   \n",
      "1        0000162d-72b9-4b0f-8895-7b52b6661c82   \n",
      "2        0000162d-72b9-4b0f-8895-7b52b6661c82   \n",
      "3        0000162d-72b9-4b0f-8895-7b52b6661c82   \n",
      "4        0000162d-72b9-4b0f-8895-7b52b6661c82   \n",
      "...                                       ...   \n",
      "6382565  ffffc959-2575-476c-b897-057e51182c5f   \n",
      "6382566  ffffc959-2575-476c-b897-057e51182c5f   \n",
      "6382567  ffffc959-2575-476c-b897-057e51182c5f   \n",
      "6382568  ffffc959-2575-476c-b897-057e51182c5f   \n",
      "6382569  ffffc959-2575-476c-b897-057e51182c5f   \n",
      "\n",
      "                                      item_id  \n",
      "0        a9e8c988-8b93-4ea2-8a97-b9ef898342dd  \n",
      "1        0bb05529-df13-46ca-8bfc-832344a7b1d3  \n",
      "2        383fde85-a76b-447d-ab42-0e26e4897420  \n",
      "3        1dc96fe9-67b0-4088-90f4-61f5c505091d  \n",
      "4        68baa02f-ad74-4399-b0c9-1f0bf326fc92  \n",
      "...                                       ...  \n",
      "6382565  f8638620-f4e0-499f-b055-33d1fa8825e6  \n",
      "6382566  6727e2bf-149d-4c40-be3b-f205fc90f503  \n",
      "6382567  ac751711-dd8b-4515-ac61-87cbdb1bed05  \n",
      "6382568  77396529-15cc-4dec-b2dd-2b10eb5de3ae  \n",
      "6382569  9f6e2619-fb31-4413-99c8-b5a668440f90  \n",
      "\n",
      "[6382570 rows x 2 columns]\n"
     ]
    }
   ],
   "source": [
    "import pandas as pd\n",
    "from concurrent.futures import ProcessPoolExecutor\n",
    "from tqdm import tqdm\n",
    "import ast\n",
    "\n",
    "xgb = pd.read_csv('xgbranker_recommendations.csv')\n",
    "als = pd.read_csv('../output/output.csv')\n",
    "\n",
    "# 문자열로 저장된 리스트를 실제 리스트로 변환하는 함수\n",
    "def convert_to_list(item):\n",
    "    try:\n",
    "        # 문자열을 실제 리스트로 변환\n",
    "        return ast.literal_eval(item) if isinstance(item, str) else item\n",
    "    except (ValueError, SyntaxError):\n",
    "        # 변환에 실패한 경우는 그대로 반환\n",
    "        return item\n",
    "\n",
    "# item_id_list 열을 실제 리스트로 변환\n",
    "xgb['item_id_list'] = xgb['item_id_list'].apply(convert_to_list)\n",
    "\n",
    "# 1. xgb와 als 데이터 병합 (user_id 기준)\n",
    "# user_id를 기준으로 xgb의 item_id_list를 als와 병합\n",
    "merged_df = als.merge(xgb, on='user_id', how='left')\n",
    "\n",
    "# 병합된 데이터를 통해 10개 채우기\n",
    "def process_user_group(group):\n",
    "    # item_id_list가 없는 경우 빈 리스트로 대체\n",
    "    item_id_list = group['item_id_list'].iloc[0]\n",
    "    # if pd.isnull(item_id_list):\n",
    "    #     item_id_list = []\n",
    "    \n",
    "    # 중복 제외 후 나머지 아이템 채우기\n",
    "    missing_items = [item for item in group['item_id'].tolist() if item not in item_id_list]\n",
    "    \n",
    "    # 10개 채우기\n",
    "    combined_list = item_id_list + missing_items[:10 - len(item_id_list)]\n",
    "    \n",
    "    # 결과 저장\n",
    "    result = [{'user_id': group['user_id'].iloc[0], 'item_id': item} for item in combined_list]\n",
    "    return result\n",
    "\n",
    "# 병렬 처리로 각 user_id에 대한 작업 수행\n",
    "def parallel_process(df, max_workers=8):\n",
    "    results = []\n",
    "    user_groups = df.groupby('user_id')\n",
    "    \n",
    "    with ProcessPoolExecutor(max_workers=max_workers) as executor:\n",
    "        # tqdm을 사용하여 진행 상황 표시\n",
    "        futures = [executor.submit(process_user_group, group) for _, group in tqdm(user_groups,desc='future')]\n",
    "        for future in tqdm(futures, desc=\"Processing user_id\"):\n",
    "            results.extend(future.result())\n",
    "    \n",
    "    return pd.DataFrame(results)\n",
    "\n",
    "# 병렬 처리 실행\n",
    "result_df = parallel_process(merged_df, max_workers=32)\n",
    "result_df.to_csv('xgb_als_output.csv',index=False)\n",
    "# 출력\n",
    "print(result_df)\n"
   ]
  },
  {
   "cell_type": "code",
   "execution_count": 1,
   "metadata": {},
   "outputs": [],
   "source": [
    "# expanded_xgb = xgb.explode('item_id_list').rename(columns={'item_id_list': 'item_id'})\n",
    "# expanded_xgb[:30]"
   ]
  },
  {
   "cell_type": "code",
   "execution_count": null,
   "metadata": {},
   "outputs": [],
   "source": []
  }
 ],
 "metadata": {
  "kernelspec": {
   "display_name": "base",
   "language": "python",
   "name": "python3"
  },
  "language_info": {
   "codemirror_mode": {
    "name": "ipython",
    "version": 3
   },
   "file_extension": ".py",
   "mimetype": "text/x-python",
   "name": "python",
   "nbconvert_exporter": "python",
   "pygments_lexer": "ipython3",
   "version": "3.10.13"
  }
 },
 "nbformat": 4,
 "nbformat_minor": 2
}
